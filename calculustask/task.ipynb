{
 "cells": [
  {
   "cell_type": "code",
   "execution_count": 32,
   "metadata": {},
   "outputs": [
    {
     "name": "stdout",
     "output_type": "stream",
     "text": [
      "       ⎛   2    ⎞\n",
      "4⋅x⋅cos⎝2⋅x  + 1⎠\n"
     ]
    }
   ],
   "source": [
    "#Differentiation\n",
    "from sympy import Symbol, diff, sin, pprint\n",
    "\n",
    "x = Symbol('x')\n",
    "\n",
    "a = diff(sin(2*x**2+1), x)\n",
    "pprint(a)\n"
   ]
  },
  {
   "cell_type": "code",
   "execution_count": 23,
   "metadata": {
    "scrolled": false
   },
   "outputs": [
    {
     "name": "stdout",
     "output_type": "stream",
     "text": [
      "9⋅x   sin(x)⋅cos(x)\n",
      "─── + ─────────────\n",
      " 2          2      \n"
     ]
    }
   ],
   "source": [
    "#Integration\n",
    "\n",
    "from sympy import Symbol, integrate, cos, pprint\n",
    "\n",
    "x = Symbol('x')\n",
    "\n",
    "a = integrate(cos(x)**2 + 4, x)\n",
    "pprint(a)\n"
   ]
  },
  {
   "cell_type": "code",
   "execution_count": 24,
   "metadata": {},
   "outputs": [
    {
     "name": "stdout",
     "output_type": "stream",
     "text": [
      "            cos(2⋅x + 1)\n",
      "f(x) = C₁ + ────────────\n",
      "                 2      \n"
     ]
    }
   ],
   "source": [
    "#ODE\n",
    "from sympy.solvers.ode import dsolve\n",
    "from sympy import Symbol, Function, Eq, diff, sin\n",
    "\n",
    "x = Symbol('x')\n",
    "f = Function('f')(x)\n",
    "\n",
    "a = Eq(f.diff(x) + sin(x*2 + 1), 0)\n",
    "pprint(dsolve(a))\n"
   ]
  },
  {
   "cell_type": "code",
   "execution_count": 31,
   "metadata": {},
   "outputs": [
    {
     "name": "stdout",
     "output_type": "stream",
     "text": [
      "                          2⋅x   y\n",
      "                        - ─── - ─\n",
      "                           5    5\n",
      "f(x, y) = F(2⋅x - 4⋅y)⋅ℯ         \n"
     ]
    }
   ],
   "source": [
    "#PDE\n",
    "from sympy.solvers.pde import pdsolve\n",
    "from sympy import Function, diff, Eq, pprint\n",
    "from sympy.abc import x,y\n",
    "\n",
    "f = Function('f')\n",
    "v = f(x, y)\n",
    "v1 = v.diff(x)\n",
    "v2 = v.diff(y)\n",
    "\n",
    "a = Eq(2 + (4*(v1/v)) + (2*(v2/v)) ,0)\n",
    "pprint(pdsolve(a))\n",
    "\n"
   ]
  },
  {
   "cell_type": "markdown",
   "metadata": {},
   "source": [
    "<span style='color:red; font-size:15pt'>Understand and illustrate the difference between symbolic computation and numerical computation</span> \n",
    "\n",
    "\n",
    "- **Symbolic Computation**\n",
    "<p>Symbolic Computation is a Computation symbol expression on math</p>\n",
    "    <p>Simple Ilustration:</p>\n",
    "    <h1>$\\frac{\\pi}2$</h1><br>\n",
    "    \n",
    "- **Numerical Computation**\n",
    "<p>Numerical Computation is a Computation which is can calculate the symbol just with number<p> \n",
    "    <p>Simple Ilustration:</p>\n",
    "    <h1>$\\frac{3.141592653589793}2$"
   ]
  },
  {
   "cell_type": "markdown",
   "metadata": {},
   "source": [
    "<span style='color:red; font-size: 20pt'>Write all the equations in latex</span>\n",
    "\n",
    "\n",
    "<h2>Differentiation :<br> $4x\\,cos(2x^2 + 1)$</h2>\n",
    "<h2>Integration :<br>${\\frac{9x}2}+ \\frac{sin(x)\\,cos(x)}2$</h2>\n",
    "<h2>ODE : <br>  ${f(x) = C1 + \\frac{cos(2x\\,+\\,1)}2}$</h2>\n",
    "<h2>PDE :<br>  ${f(x, y) = F(2x - 4y)e -^ {\\frac{2x}5 -\\frac{y}5}}$</h2>"
   ]
  },
  {
   "cell_type": "code",
   "execution_count": 10,
   "metadata": {},
   "outputs": [
    {
     "name": "stdout",
     "output_type": "stream",
     "text": [
      "(29.3781456481836, 3.2616293719404776e-13)\n"
     ]
    }
   ],
   "source": [
    "#Integration\n",
    "from scipy import integrate\n",
    "from numpy import exp\n",
    "\n",
    "f = lambda x:exp(x**2 +3)\n",
    "i = integrate.quad(f, 0, 1)\n",
    "print(i)"
   ]
  },
  {
   "cell_type": "code",
   "execution_count": 30,
   "metadata": {},
   "outputs": [
    {
     "name": "stdout",
     "output_type": "stream",
     "text": [
      "(0.4714045207910319, 1.563281206178698e-14)\n"
     ]
    }
   ],
   "source": [
    "#Double integral\n",
    "from scipy import integrate\n",
    "import numpy as np\n",
    "\n",
    "a = integrate.dblquad(lambda x, y:np.sqrt(2), 0 , 1, lambda x:0, lambda x:x**2)\n",
    "\n",
    "print(a)"
   ]
  },
  {
   "cell_type": "code",
   "execution_count": null,
   "metadata": {},
   "outputs": [],
   "source": []
  }
 ],
 "metadata": {
  "kernelspec": {
   "display_name": "Python 3",
   "language": "python",
   "name": "python3"
  },
  "language_info": {
   "codemirror_mode": {
    "name": "ipython",
    "version": 3
   },
   "file_extension": ".py",
   "mimetype": "text/x-python",
   "name": "python",
   "nbconvert_exporter": "python",
   "pygments_lexer": "ipython3",
   "version": "3.6.8"
  }
 },
 "nbformat": 4,
 "nbformat_minor": 2
}
